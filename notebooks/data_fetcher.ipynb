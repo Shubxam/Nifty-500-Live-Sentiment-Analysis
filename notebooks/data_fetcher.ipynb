{
 "cells": [
  {
   "cell_type": "code",
   "execution_count": 1,
   "metadata": {},
   "outputs": [],
   "source": [
    "# add parent of parent folder to path\n",
    "import os\n",
    "import sys\n",
    "sys.path.append(os.path.dirname(os.getcwd()))\n",
    "\n",
    "\n",
    "\n",
    "from services.data_fetcher import (\n",
    "    DataFetcher, \n",
    "    NewsSource, \n",
    "    GoogleFinanceSource,\n",
    "    YahooFinanceSource,\n",
    "    FinologySource\n",
    ")"
   ]
  },
  {
   "cell_type": "code",
   "execution_count": 2,
   "metadata": {},
   "outputs": [],
   "source": [
    "ticker = \"SBIN\""
   ]
  },
  {
   "cell_type": "code",
   "execution_count": 4,
   "metadata": {},
   "outputs": [
    {
     "data": {
      "text/plain": [
       "[{'ticker': 'SBIN',\n",
       "  'headline': 'Is it wise to buy SBI, HDFC Bank shares ahead of NSDL IPO opening date?',\n",
       "  'date_posted': '2025-02-24',\n",
       "  'article_link': 'https://www.livemint.com/market/ipo/is-it-wise-to-buy-sbi-hdfc-bank-shares-ahead-of-nsdl-ipo-opening-date-11740367135137.html',\n",
       "  'source': 'Mint'},\n",
       " {'ticker': 'SBIN',\n",
       "  'headline': 'SBI shares hit 52-week low! InCred downgrades stock amid lower return ratios concerns',\n",
       "  'date_posted': '2025-02-24',\n",
       "  'article_link': 'https://www.businesstoday.in/markets/company-stock/story/sbi-shares-hit-52-week-low-incred-downgrades-stock-amid-lower-return-ratios-concerns-465740-2025-02-24',\n",
       "  'source': 'Business Today'},\n",
       " {'ticker': 'SBIN',\n",
       "  'headline': 'SBI share price target cut by more than Rs 300 by THIS brokerage; 3 reasons',\n",
       "  'date_posted': '2025-02-24',\n",
       "  'article_link': 'https://www.etnownews.com/markets/sbi-share-price-target-cut-by-more-than-rs-300-by-this-brokerage-3-reasons-article-118528518',\n",
       "  'source': 'ET Now'},\n",
       " {'ticker': 'SBIN',\n",
       "  'headline': 'SBI vs PNB vs BoB 3-year FD: What will general and senior citizens get on Rs 8 lakh investment',\n",
       "  'date_posted': '2025-02-24',\n",
       "  'article_link': 'https://www.zeebiz.com/personal-finance/photo-gallery-sbi-3-year-fd-vs-pnb-fixed-deposit-vs-bank-of-baroda-interest-rate-return-maturity-calculator-what-will-general-and-senior-citizens-get-on-inr-rs-800000-investment-state-of-india-guaranteed-return-348453',\n",
       "  'source': 'Zee Business'},\n",
       " {'ticker': 'SBIN',\n",
       "  'headline': \"SBI share price hits 52-week low as InCred Equities downgrades to 'Hold'\",\n",
       "  'date_posted': '2025-02-24',\n",
       "  'article_link': 'https://www.business-standard.com/markets/news/sbi-share-price-hits-52-week-low-as-incred-equities-downgrades-to-hold-125022400195_1.html',\n",
       "  'source': 'Business Standard'},\n",
       " {'ticker': 'SBIN',\n",
       "  'headline': 'Want to Double Your Money in 3 Years? Invest in These 5 SBI Schemes for Big Returns',\n",
       "  'date_posted': '2025-02-22',\n",
       "  'article_link': 'https://www.timesbull.com/business/want-to-double-your-money-in-3-years-invest-in-these-5-sbi-schemes-for-big-returns-421405.html',\n",
       "  'source': 'Times Bull'}]"
      ]
     },
     "execution_count": 4,
     "metadata": {},
     "output_type": "execute_result"
    }
   ],
   "source": [
    "google_src = GoogleFinanceSource()\n",
    "google_src.fetch_articles(ticker)"
   ]
  },
  {
   "cell_type": "code",
   "execution_count": 5,
   "metadata": {},
   "outputs": [
    {
     "data": {
      "text/plain": [
       "[{'ticker': 'SBIN',\n",
       "  'headline': \"State Bank of India sees sector's personal loan woes easing on tighter credit rules\",\n",
       "  'date_posted': '2025-02-12',\n",
       "  'article_link': 'https://finance.yahoo.com/news/state-bank-india-sees-sectors-055630316.html',\n",
       "  'news_source': 'Reuters'},\n",
       " {'ticker': 'SBIN',\n",
       "  'headline': 'State Bank of India (SBKFF) Q3 2025 Earnings Call Highlights: Robust Profit Growth Amidst ...',\n",
       "  'date_posted': '2025-02-07',\n",
       "  'article_link': 'https://finance.yahoo.com/news/state-bank-india-sbkff-q3-070658495.html',\n",
       "  'news_source': 'GuruFocus.com'},\n",
       " {'ticker': 'SBIN',\n",
       "  'headline': 'State Bank of India aims to raise 50 billion rupees via perpetual bonds, sources say',\n",
       "  'date_posted': '2025-02-05',\n",
       "  'article_link': 'https://finance.yahoo.com/news/state-bank-india-aims-raise-065113321.html',\n",
       "  'news_source': 'Reuters'},\n",
       " {'ticker': 'SBIN',\n",
       "  'headline': 'BPCL secures financial closure for Bina Refinery expansion project in India',\n",
       "  'date_posted': '2025-01-25',\n",
       "  'article_link': 'https://finance.yahoo.com/news/bpcl-secures-financial-closure-bina-163437806.html',\n",
       "  'news_source': 'Offshore Technology'},\n",
       " {'ticker': 'SBIN',\n",
       "  'headline': 'State Bank of India plans significant expansion of branch network',\n",
       "  'date_posted': '2024-11-26',\n",
       "  'article_link': 'https://finance.yahoo.com/news/state-bank-india-plans-significant-152758915.html',\n",
       "  'news_source': 'Retail Banker International'},\n",
       " {'ticker': 'SBIN',\n",
       "  'headline': 'State Bank of India (FRA:SID) Q2 2025 Earnings Call Highlights: Robust Profit Growth and ...',\n",
       "  'date_posted': '2024-11-26',\n",
       "  'article_link': 'https://finance.yahoo.com/news/state-bank-india-fra-sid-070308407.html',\n",
       "  'news_source': 'GuruFocus.com'},\n",
       " {'ticker': 'SBIN',\n",
       "  'headline': 'How to invest in the Indian stock market',\n",
       "  'date_posted': '2024-11-26',\n",
       "  'article_link': 'https://finance.yahoo.com/news/how-invest-indian-stock-market-092356666.html',\n",
       "  'news_source': 'Yahoo Finance UK'},\n",
       " {'ticker': 'SBIN',\n",
       "  'headline': \"India's SBI aims to sell its Yes Bank stake worth $2.2 billion by end-March, sources say\",\n",
       "  'date_posted': '2024-08-28',\n",
       "  'article_link': 'https://finance.yahoo.com/news/indias-sbi-aims-sell-yes-090138489.html',\n",
       "  'news_source': 'Reuters'},\n",
       " {'ticker': 'SBIN',\n",
       "  'headline': \"State Bank of India's Dividend Analysis\",\n",
       "  'date_posted': '2024-05-30',\n",
       "  'article_link': 'https://finance.yahoo.com/news/state-bank-indias-dividend-analysis-110106531.html',\n",
       "  'news_source': 'GuruFocus.com'},\n",
       " {'ticker': 'SBIN',\n",
       "  'headline': \"UPDATE 2-India's top court orders SBI bank to share political donors' names by Tuesday\",\n",
       "  'date_posted': '2024-03-31',\n",
       "  'article_link': 'https://finance.yahoo.com/news/1-indias-top-court-asks-064004883.html',\n",
       "  'news_source': 'Reuters'}]"
      ]
     },
     "execution_count": 5,
     "metadata": {},
     "output_type": "execute_result"
    }
   ],
   "source": [
    "yfs = YahooFinanceSource()\n",
    "yfs.fetch_articles(ticker)"
   ]
  },
  {
   "cell_type": "code",
   "execution_count": 6,
   "metadata": {},
   "outputs": [
    {
     "data": {
      "text/plain": [
       "[{'ticker': 'SBIN',\n",
       "  'headline': 'SBI - Quaterly Results',\n",
       "  'date_posted': '2025-02-06',\n",
       "  'article_link': 'https://ticker.finology.in/company/SBIN',\n",
       "  'news_source': 'Finology'},\n",
       " {'ticker': 'SBIN',\n",
       "  'headline': 'SBI - Quaterly Results',\n",
       "  'date_posted': '2025-02-06',\n",
       "  'article_link': 'https://ticker.finology.in/company/SBIN',\n",
       "  'news_source': 'Finology'},\n",
       " {'ticker': 'SBIN',\n",
       "  'headline': 'SBI - Quaterly Results',\n",
       "  'date_posted': '2025-02-06',\n",
       "  'article_link': 'https://ticker.finology.in/company/SBIN',\n",
       "  'news_source': 'Finology'},\n",
       " {'ticker': 'SBIN',\n",
       "  'headline': 'State Bank of India informs about change in senior management',\n",
       "  'date_posted': '2025-02-01',\n",
       "  'article_link': 'https://ticker.finology.in/company/SBIN',\n",
       "  'news_source': 'Finology'},\n",
       " {'ticker': 'SBIN',\n",
       "  'headline': 'State Bank of India informs about board meeting',\n",
       "  'date_posted': '2025-01-16',\n",
       "  'article_link': 'https://ticker.finology.in/company/SBIN',\n",
       "  'news_source': 'Finology'},\n",
       " {'ticker': 'SBIN',\n",
       "  'headline': 'SBI launches two new deposit schemes ‘Har Ghar Lakhpati’, ‘SBI Patrons’',\n",
       "  'date_posted': '2025-01-04',\n",
       "  'article_link': 'https://ticker.finology.in/company/SBIN',\n",
       "  'news_source': 'Finology'},\n",
       " {'ticker': 'SBIN',\n",
       "  'headline': 'State Bank Of India informs about change in management',\n",
       "  'date_posted': '2024-12-30',\n",
       "  'article_link': 'https://ticker.finology.in/company/SBIN',\n",
       "  'news_source': 'Finology'},\n",
       " {'ticker': 'SBIN',\n",
       "  'headline': 'SBI raises Rs 50,000 crore via domestic bonds during FY25',\n",
       "  'date_posted': '2024-11-27',\n",
       "  'article_link': 'https://ticker.finology.in/company/SBIN',\n",
       "  'news_source': 'Finology'},\n",
       " {'ticker': 'SBIN',\n",
       "  'headline': 'State Bank Of India informs about analyst meet',\n",
       "  'date_posted': '2024-11-23',\n",
       "  'article_link': 'https://ticker.finology.in/company/SBIN',\n",
       "  'news_source': 'Finology'},\n",
       " {'ticker': 'SBIN',\n",
       "  'headline': 'SBI raises Rs 10,000 crore through bond issuance',\n",
       "  'date_posted': '2024-11-18',\n",
       "  'article_link': 'https://ticker.finology.in/company/SBIN',\n",
       "  'news_source': 'Finology'}]"
      ]
     },
     "execution_count": 6,
     "metadata": {},
     "output_type": "execute_result"
    }
   ],
   "source": [
    "finology = FinologySource()\n",
    "finology.fetch_articles(ticker)"
   ]
  },
  {
   "cell_type": "markdown",
   "metadata": {},
   "source": [
    "# Cogencis"
   ]
  },
  {
   "cell_type": "code",
   "execution_count": 32,
   "metadata": {},
   "outputs": [],
   "source": [
    "from bs4 import BeautifulSoup\n",
    "from services.cogencis_scraper import NewsScraper\n",
    "news_scraper = NewsScraper(\"https://iinvest.cogencis.com\")"
   ]
  },
  {
   "cell_type": "code",
   "execution_count": 33,
   "metadata": {},
   "outputs": [],
   "source": [
    "url_path = \"/nifty/nsi/nifty/nifty-50\""
   ]
  },
  {
   "cell_type": "code",
   "execution_count": 28,
   "metadata": {},
   "outputs": [
    {
     "name": "stdout",
     "output_type": "stream",
     "text": [
      "Successfully loaded homepage\n"
     ]
    }
   ],
   "source": [
    "content = await news_scraper.fetch_page(\"/\", timeout=60000)\n",
    "print(\"Successfully loaded homepage\")"
   ]
  },
  {
   "cell_type": "code",
   "execution_count": null,
   "metadata": {},
   "outputs": [],
   "source": [
    "# # visit the target page\n",
    "# content = await news_scraper.fetch_page(\n",
    "#     \"/nifty/nsi/nifty/nifty-50\",\n",
    "#     wait_for_selector=\"a.stock-title\",\n",
    "#     timeout=60000\n",
    "# )"
   ]
  },
  {
   "cell_type": "code",
   "execution_count": 35,
   "metadata": {},
   "outputs": [
    {
     "name": "stdout",
     "output_type": "stream",
     "text": [
      "Text: M&M, Link: /ine101a01026/mahmahin/ns/m&m/mahindra-&-mahindra_\n",
      "Text: DRREDDY, Link: /ine089a01031/drredd/ns/drreddy/dr-reddys-laboratories_\n",
      "Text: EICHERMOT, Link: /ine066a01021/eichmoto/ns/eichermot/eicher-motors_\n",
      "Text: HEROMOTOCO, Link: /ine158a01026/heromoto/ns/heromotoco/hero-motocorp_\n",
      "Text: KOTAKBANK, Link: /ine237a01028/kotamahi/ns/kotakbank/kotak-mahindra-bank_\n",
      "Text: TRENT, Link: /ine849a01020/tren/ns/trent/trent_\n",
      "Text: NESTLEIND, Link: /ine239a01024/nestindi/ns/nestleind/nestle-india_\n",
      "Text: ITC, Link: /ine154a01025/itc/ns/itc/itc_\n",
      "Text: MARUTI, Link: /ine585b01010/marusuzu/ns/maruti/maruti-suzuki-india_\n",
      "Text: AXISBANK, Link: /ine238a01034/axisbank/ns/axisbank/axis-bank_\n",
      "Text: BEL, Link: /ine263a01024/bharelec/ns/bel/bharat-electronics_\n",
      "Text: CIPLA, Link: /ine059a01026/cipl/ns/cipla/cipla_\n",
      "Text: HINDUNILVR, Link: /ine030a01027/hindunil/ns/hindunilvr/hindustan-unilever_\n",
      "Text: BPCL, Link: /ine029a01011/bharpetr/ns/bpcl/bharat-petroleum-corp_\n",
      "Text: TATACONSUM, Link: /ine192a01025/tatacon/ns/tataconsum/tata-consumer-products_\n",
      "Text: TITAN, Link: /ine280a01028/titcompa/ns/titan/titan-company_\n",
      "Text: SUNPHARMA, Link: /ine044a01036/supharma/ns/sunpharma/sun-pharmaceutical-industries_\n",
      "Text: BAJFINANCE, Link: /ine296a01024/bajafina/ns/bajfinance/bajaj-finance_\n",
      "Text: ASIANPAINT, Link: /ine021a01026/asiapain/ns/asianpaint/asian-paints_\n",
      "Text: BRITANNIA, Link: /ine216a01030/britindu/ns/britannia/britannia-industries_\n",
      "Text: SBILIFE, Link: /ine123w01016/sbilife/ns/sbilife/sbi-life-insurance-company_\n",
      "Text: BAJAJ-AUTO, Link: /ine917i01010/bajaauto/ns/bajaj-auto/bajaj-auto_\n",
      "Text: TATAMOTORS, Link: /ine155a01022/tatamoto/ns/tatamotors/tata-motors_\n",
      "Text: SBIN, Link: /ine062a01020/stabanki/ns/sbin/state-bank-of-india\n",
      "Text: ADANIENT, Link: /ine423a01024/adanente/ns/adanient/adani-enterprises_\n",
      "Text: HDFCBANK, Link: /ine040a01034/hdfcbank/ns/hdfcbank/hdfc-bank_\n",
      "Text: HDFCLIFE, Link: /ine795g01014/hdfclife/ns/hdfclife/hdfc-life-insurance-company_\n",
      "Text: ULTRACEMCO, Link: /ine481g01011/ultrceme/ns/ultracemco/ultratech-cement_\n",
      "Text: APOLLOHOSP, Link: /ine437a01024/apolhosp/ns/apollohosp/apollo-hospitals-enterprise_\n",
      "Text: POWERGRID, Link: /ine752e01010/powegrid/ns/powergrid/power-grid-corp-of-india_\n",
      "Text: RELIANCE, Link: /ine002a01018/relindus/ns/reliance/reliance-industries_\n",
      "Text: BAJAJFINSV, Link: /ine918i01026/bajafins/ns/bajajfinsv/bajaj-finserv_\n",
      "Text: ICICIBANK, Link: /ine090a01021/icicbank/ns/icicibank/icici-bank_\n",
      "Text: ADANIPORTS, Link: /ine742f01042/adanport/ns/adaniports/adani-ports-and-special-economic-zone_\n",
      "Text: SHRIRAMFIN, Link: /ine721a01047/shrifina/ns/shriramfin/shriram-finance_\n",
      "Text: COALINDIA, Link: /ine522f01014/coalindi/ns/coalindia/coal-india_\n",
      "Text: INDUSINDBK, Link: /ine095a01012/indubank/ns/indusindbk/indusind-bank_\n",
      "Text: JSWSTEEL, Link: /ine019a01038/jswstee/ns/jswsteel/jsw-steel_\n",
      "Text: GRASIM, Link: /ine047a01021/grasindu/ns/grasim/grasim-industries_\n",
      "Text: LT, Link: /ine018a01030/larstoub/ns/lt/larsen-&-toubro_\n",
      "Text: HINDALCO, Link: /ine038a01020/hinindus/ns/hindalco/hindalco-industries_\n",
      "Text: NTPC, Link: /ine733e01010/ntpc/ns/ntpc/ntpc_\n",
      "Text: TECHM, Link: /ine669c01036/techmahi/ns/techm/tech-mahindra_\n",
      "Text: TATASTEEL, Link: /ine081a01020/tatastee/ns/tatasteel/tata-steel_\n",
      "Text: ONGC, Link: /ine213a01029/oilnatu/ns/ongc/oil-&-natural-gas-corp_\n",
      "Text: BHARTIARTL, Link: /ine397d01024/bharairt/ns/bhartiartl/bharti-airtel_\n",
      "Text: INFY, Link: /ine009a01021/info/ns/infy/infosys_\n",
      "Text: TCS, Link: /ine467b01029/tatacons/ns/tcs/tata-consultancy-services_\n",
      "Text: HCLTECH, Link: /ine860a01027/hcltech/ns/hcltech/hcl-technologies_\n",
      "Text: WIPRO, Link: /ine075a01022/wipr/ns/wipro/wipro_\n"
     ]
    }
   ],
   "source": [
    "# get all the items with a.stock-title selector\n",
    "items = await news_scraper.page.query_selector_all(\"a.stock-title\")\n",
    "\n",
    "for item in items:\n",
    "    text = await item.inner_text()\n",
    "    href = await item.get_attribute('href')\n",
    "    print(f\"Text: {text}, Link: {href}\")"
   ]
  },
  {
   "cell_type": "code",
   "execution_count": 31,
   "metadata": {},
   "outputs": [],
   "source": [
    "await news_scraper.close()"
   ]
  },
  {
   "cell_type": "code",
   "execution_count": null,
   "metadata": {},
   "outputs": [],
   "source": []
  }
 ],
 "metadata": {
  "kernelspec": {
   "display_name": ".venv",
   "language": "python",
   "name": "python3"
  },
  "language_info": {
   "codemirror_mode": {
    "name": "ipython",
    "version": 3
   },
   "file_extension": ".py",
   "mimetype": "text/x-python",
   "name": "python",
   "nbconvert_exporter": "python",
   "pygments_lexer": "ipython3",
   "version": "3.11.11"
  }
 },
 "nbformat": 4,
 "nbformat_minor": 2
}
