{
 "cells": [
  {
   "cell_type": "code",
   "execution_count": 1,
   "id": "daabc62c",
   "metadata": {},
   "outputs": [],
   "source": [
    "import pandas as pd\n",
    "import duckdb as ddb\n"
   ]
  },
  {
   "cell_type": "code",
   "execution_count": 2,
   "id": "52ffd55f",
   "metadata": {},
   "outputs": [],
   "source": [
    "con = ddb.connect('../datasets/ticker_data.db')"
   ]
  },
  {
   "cell_type": "code",
   "execution_count": null,
   "id": "f8bfcdbc",
   "metadata": {},
   "outputs": [
    {
     "data": {
      "text/plain": [
       "<duckdb.duckdb.DuckDBPyConnection at 0x10dd65630>"
      ]
     },
     "execution_count": 4,
     "metadata": {},
     "output_type": "execute_result"
    }
   ],
   "source": [
    "con.execute(\"SELECT constraint_name FROM information_schema.table_constraints WHERE table_name = 'article_data' AND constraint_type = 'PRIMARY KEY'\")\n"
   ]
  },
  {
   "cell_type": "code",
   "execution_count": 6,
   "id": "f5348a12",
   "metadata": {},
   "outputs": [
    {
     "ename": "NotImplementedException",
     "evalue": "Not implemented Error: No support for that ALTER TABLE option yet!",
     "output_type": "error",
     "traceback": [
      "\u001b[31m---------------------------------------------------------------------------\u001b[39m",
      "\u001b[31mNotImplementedException\u001b[39m                   Traceback (most recent call last)",
      "\u001b[36mCell\u001b[39m\u001b[36m \u001b[39m\u001b[32mIn[6]\u001b[39m\u001b[32m, line 1\u001b[39m\n\u001b[32m----> \u001b[39m\u001b[32m1\u001b[39m \u001b[43mcon\u001b[49m\u001b[43m.\u001b[49m\u001b[43mexecute\u001b[49m\u001b[43m(\u001b[49m\u001b[33;43m\"\u001b[39;49m\u001b[33;43mALTER TABLE article_data DROP CONSTRAINT IF EXISTS article_data_pkey;\u001b[39;49m\u001b[33;43m\"\u001b[39;49m\u001b[43m)\u001b[49m\n",
      "\u001b[31mNotImplementedException\u001b[39m: Not implemented Error: No support for that ALTER TABLE option yet!"
     ]
    }
   ],
   "source": [
    "con.execute(\"ALTER TABLE article_data DROP CONSTRAINT IF EXISTS article_data_pkey;\")"
   ]
  },
  {
   "cell_type": "code",
   "execution_count": 5,
   "id": "460d65e9",
   "metadata": {},
   "outputs": [
    {
     "data": {
      "text/plain": [
       "('article_data_ticker_headline_date_posted_pkey',)"
      ]
     },
     "execution_count": 5,
     "metadata": {},
     "output_type": "execute_result"
    }
   ],
   "source": [
    "con.fetchone()"
   ]
  },
  {
   "cell_type": "code",
   "execution_count": null,
   "id": "85a71420",
   "metadata": {},
   "outputs": [
    {
     "ename": "CatalogException",
     "evalue": "Catalog Error: table \"article_data\" can have only one primary key: PRIMARY KEY(ticker, headline, date_posted)",
     "output_type": "error",
     "traceback": [
      "\u001b[31m---------------------------------------------------------------------------\u001b[39m",
      "\u001b[31mCatalogException\u001b[39m                          Traceback (most recent call last)",
      "\u001b[36mCell\u001b[39m\u001b[36m \u001b[39m\u001b[32mIn[3]\u001b[39m\u001b[32m, line 1\u001b[39m\n\u001b[32m----> \u001b[39m\u001b[32m1\u001b[39m \u001b[43mcon\u001b[49m\u001b[43m.\u001b[49m\u001b[43mexecute\u001b[49m\u001b[43m(\u001b[49m\u001b[33;43m\"\u001b[39;49m\u001b[33;43mALTER TABLE article_data ADD PRIMARY KEY (ticker, headline);\u001b[39;49m\u001b[33;43m\"\u001b[39;49m\u001b[43m)\u001b[49m\n",
      "\u001b[31mCatalogException\u001b[39m: Catalog Error: table \"article_data\" can have only one primary key: PRIMARY KEY(ticker, headline, date_posted)"
     ]
    }
   ],
   "source": [
    "con.execute(\"ALTER TABLE article_data ADD PRIMARY KEY (ticker, headline);\")"
   ]
  },
  {
   "cell_type": "code",
   "execution_count": 4,
   "id": "02ae9ea6",
   "metadata": {},
   "outputs": [
    {
     "data": {
      "text/plain": [
       "<duckdb.duckdb.DuckDBPyConnection at 0x103df3df0>"
      ]
     },
     "execution_count": 4,
     "metadata": {},
     "output_type": "execute_result"
    }
   ],
   "source": [
    "con.commit()"
   ]
  },
  {
   "cell_type": "code",
   "execution_count": 5,
   "id": "629146c8",
   "metadata": {},
   "outputs": [],
   "source": [
    "con.close()"
   ]
  },
  {
   "cell_type": "code",
   "execution_count": null,
   "id": "330d31c9",
   "metadata": {},
   "outputs": [],
   "source": []
  }
 ],
 "metadata": {
  "kernelspec": {
   "display_name": ".venv",
   "language": "python",
   "name": "python3"
  },
  "language_info": {
   "codemirror_mode": {
    "name": "ipython",
    "version": 3
   },
   "file_extension": ".py",
   "mimetype": "text/x-python",
   "name": "python",
   "nbconvert_exporter": "python",
   "pygments_lexer": "ipython3",
   "version": "3.13.2"
  }
 },
 "nbformat": 4,
 "nbformat_minor": 5
}
