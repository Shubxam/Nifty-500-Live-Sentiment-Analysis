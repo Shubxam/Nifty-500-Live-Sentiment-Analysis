{
 "cells": [
  {
   "cell_type": "markdown",
   "id": "2b17dd23",
   "metadata": {},
   "source": [
    "# Sentiment Analysis Models"
   ]
  },
  {
   "cell_type": "code",
   "execution_count": 1,
   "id": "93740773",
   "metadata": {},
   "outputs": [
    {
     "name": "stdout",
     "output_type": "stream",
     "text": [
      "Added '/Users/shubxam/Code/Nifty-500-Live-Sentiment-Analysis/src' to sys.path\n"
     ]
    }
   ],
   "source": [
    "import os\n",
    "import sys\n",
    "\n",
    "# This adds the 'src' directory to the Python path.\n",
    "src_rel_path = '../src'\n",
    "src_abs_path = os.path.abspath(src_rel_path)\n",
    "\n",
    "if src_abs_path not in sys.path:\n",
    "    sys.path.append(src_abs_path)\n",
    "    print(f\"Added '{src_abs_path}' to sys.path\")\n",
    "else:\n",
    "    print(f\"'{src_abs_path}' is already in sys.path\")\n",
    "\n",
    "import pandas as pd\n",
    "from tqdm import tqdm\n",
    "\n",
    "import database as db"
   ]
  },
  {
   "cell_type": "code",
   "execution_count": 2,
   "id": "3d85d29d",
   "metadata": {},
   "outputs": [],
   "source": [
    "conn = db.DatabaseManager()\n",
    "articles_df = conn.get_articles(has_sentiment=False, n=500)"
   ]
  },
  {
   "cell_type": "code",
   "execution_count": 3,
   "id": "ab1507b4",
   "metadata": {},
   "outputs": [
    {
     "data": {
      "text/plain": [
       "['ICICI Bank Completes Redemption of Notes',\n",
       " 'Mahindra & Mahindra selects partner for supply chain efficiencies',\n",
       " 'Kotak Mahindra Bank Ltd (BOM:500247) Q2 2025 Earnings Call Highlights: Strong Profit Growth ...',\n",
       " 'StanChart sells India personal loan business to Kotak Mahindra Bank',\n",
       " 'Britannia, Groupe Bel India venture starts cheese production',\n",
       " 'Indian shares post worst week in over 2 years as Mideast fears, foreign outflows weigh',\n",
       " \"India's coal-fired monthly power output slips consecutively for the first time since pandemic\",\n",
       " 'HCL Technologies Ltd (BOM:532281) Q2 2025 Earnings Call Highlights: Strong Revenue Growth and ...',\n",
       " 'Exploring Kaynes Technology India And 2 Other High Growth Tech Stocks',\n",
       " 'High Growth Tech Stocks in India to Watch This September 2024',\n",
       " '3 Indian Dividend Stocks Yielding Up To 7.9%',\n",
       " 'Top 3 Indian Dividend Stocks In September 2024',\n",
       " '3 High-Yield Dividend Stocks On Indian Exchange Yielding Up To 3.7%',\n",
       " 'Sun Pharma and Moebius gain FDA fast track for osteoarthritis drug',\n",
       " 'Pharmazz Inc. and Sun Pharma entered into an agreement under which Sun Pharma will invest up to $15 Million in Pharmazz, Inc.',\n",
       " 'India stocks higher at close of trade; Nifty 50 up 0.05%',\n",
       " '24 Largest Publicly Traded Food Companies in 2024',\n",
       " 'Toyota, Maruti launch marketing drive for hybrids in key Indian state',\n",
       " \"State-run NTPC's green energy arm files for $1.2 billion India IPO\",\n",
       " 'India approves NPCIL and NTPC’s JV to build nuclear power plants',\n",
       " 'India’s NTPC Green Energy to raise $1.2bn via IPO',\n",
       " \"India's Mahindra, Dr Reddy's deny conflict in payments to India regulatory chief's husband\",\n",
       " 'Tech Mahindra and Google Cloud partner to boost Gen AI adoption',\n",
       " '24 Largest Publicly Traded Food Companies in 2024',\n",
       " 'Hindalco to spend $10 billion to expand India business and Novelis, chairman says',\n",
       " \"Indian shares' longest rally in 2024 tempered by caution ahead of Powell's speech\",\n",
       " 'India stocks higher at close of trade; Nifty 50 up 0.40%',\n",
       " \"Bajaj Housing Finance's $782 million IPO oversubscribed in busy week for Indian floats\",\n",
       " 'Trending tickers: Palantir, Playtech, Intel and Bajaj Finance',\n",
       " \"India's Bajaj Housing Finance targets $7 billion valuation in IPO\",\n",
       " 'Bajaj Housing Finance draws bids worth $39 billion in hottest India IPO this year',\n",
       " 'Top Dividend Stocks To Consider On The Indian Exchange',\n",
       " 'Top Dividend Stocks To Consider On The Indian Exchange August 2024',\n",
       " 'Top 3 Indian Dividend Stocks To Consider',\n",
       " 'Coal India eyeing Argentina, Chile for critical minerals, says official',\n",
       " '3 Dividend Stocks On Indian Exchange Yielding Up To 5.2%',\n",
       " 'High Growth Tech Stocks In India Featuring Coforge And 2 Others',\n",
       " 'Suzlon Group secures 1.166GW wind energy order in India',\n",
       " 'Indian retailer Trent posts two-fold rise in profit, shares hit record high',\n",
       " \"India's SBI aims to sell its Yes Bank stake worth $2.2 billion by end-March, sources say\",\n",
       " 'Aditya Birla’s UltraTech to acquire 32.72% stake in India Cements',\n",
       " 'Top 3 Indian Dividend Stocks To Own',\n",
       " 'FDA approves Sun Pharma’s JAK inhibitor for alopecia',\n",
       " 'Exploring Three Indian Dividend Stocks With Yields Up To 3.8%',\n",
       " 'Top Dividend Stocks To Consider On The Indian Exchange In August 2024',\n",
       " 'D. B Leads These 3 Top Indian Dividend Stocks',\n",
       " 'Indian government revises natural gas pricing,\\xa0ONGC approves new gas projects',\n",
       " 'Top 3 Indian Dividend Stocks To Enhance Your Portfolio',\n",
       " 'Nestle India misses Q1 estimates, posts slowest revenue growth in 8 years',\n",
       " 'Nestlé invests further in Indian joint venture with Dr Reddy’s',\n",
       " \"Maruti leads drop in Indian carmakers' sales to dealers in July as demand cools\",\n",
       " \"India's Mahindra & Mahindra posts bigger adjusted profit on strong car, tractor sales\",\n",
       " 'Hyundai, Tata, others lobby Indian state against hybrid support as Toyota rivalry deepens',\n",
       " \"Exclusive-India's Mahindra seeks nod for $3 billion Shaanxi JV, sources say\",\n",
       " 'M&M denies auto JV with China – report',\n",
       " \"India's top private lenders see farm loan defaults rising amid weak rural economy\",\n",
       " \"India's Hero MotoCorp misses Q1 profit estimate on weak average prices\",\n",
       " \"India's Eicher Motors roars past Q1 profit estimates on strong sales of pricier Royal Enfields\",\n",
       " \"India's Bajaj Finance forecasts improvement in loan losses from Q3\",\n",
       " '3 Top Indian Dividend Stocks Yielding 3% To 6%',\n",
       " 'Coal India And 2 Other Top Dividend Stocks On Indian Exchange',\n",
       " 'Top Dividend Stocks To Consider On The Indian Exchange In August 2024',\n",
       " 'Coal India And 2 Other Leading Indian Dividend Stocks',\n",
       " 'Indian drugmaker Cipla beats Q1 profit view on strong demand; shares hit record high',\n",
       " \"Birla's UltraTech buys stake in rival to defend Indian cement lead against Adani\",\n",
       " 'Sun Pharma’s Phase I GL0034 study shows weight loss efficacy and lipid reduction',\n",
       " 'Examining 3 Indian Dividend Stocks With Yields Up To 6.6%',\n",
       " 'Indian Exchange Dividend Stocks To Watch In July 2024',\n",
       " 'Indian Dividend Stocks To Watch In July 2024',\n",
       " \"India's HDFC Life Q1 profit rises 15% on higher demand for market-linked policies\",\n",
       " 'ABB’s PixelPaint selected by Mahindra',\n",
       " 'Adani, Hindalco show interest as Hindustan Copper plans to develop two mines, source says',\n",
       " 'Kotak Mahindra says Hindenburg was not an investor in its fund',\n",
       " 'Three Top Dividend Stocks In India Offering Up To 3.7% Yield',\n",
       " 'Avoid Triveni Engineering & Industries And Explore One Better Dividend Stock Option',\n",
       " '3 High Yield Dividend Stocks In India With Yields Up To 4.1%',\n",
       " \"Hero MotoCorp Pays Tribute to Its Founder & Chairman Emeritus, Hero Forever, Dr. Brijmohan Lall Munjal With the Collector's Edition Motorcycle - 'The Centennial'\",\n",
       " 'Britannia Industries to close factory in India',\n",
       " 'Ethris shares positive data with mRNA drug following new funding',\n",
       " \"State Bank of India's Dividend Analysis\",\n",
       " \"India's JSW Cement plans $360 million factory to meet rising demand\",\n",
       " 'UltraTech Cement offers to acquire 31.6% stake in RAKWCT',\n",
       " 'Philogen and Sun Pharma seek EMA approval for melanoma therapy',\n",
       " 'Maruti Suzuki launches pilot biogas plant at Indian facility',\n",
       " 'Vehicle sales in India forecast to hit new record in 2024',\n",
       " 'Upstox enters Indian insurance space with HDFC Life as first partner',\n",
       " 'This Auto Stock is up 113% in 1 Year, Can You Still Buy it?',\n",
       " 'Aluminum recycler Novelis targets up to $12.6 billion valuation in US IPO',\n",
       " 'Hindalco-owned Novelis delays US IPO; shares slide',\n",
       " \"New Indian govt won't increase borrowing in July budget, says Kotak Mahindra Bank\",\n",
       " 'Accelya Solutions India And Two More High Yield Dividend Stocks',\n",
       " 'Exploring ITC And Two More Leading Dividend Stocks In India',\n",
       " 'Exelixis (EXEL) Settles Cabometyx Patent Litigation With Cipla',\n",
       " 'Indian drugmakers to see FY25 revenue boost in key US market, says India Ratings and Research',\n",
       " 'Nestlé signs India venture with pharma group Dr Reddy’s',\n",
       " \"India's Mahindra & Mahindra to invest $1.44 billion in EV arm; explores hybrid tech\",\n",
       " 'Aluminum products maker Novelis makes US IPO filing public',\n",
       " \"UPDATE 2-India's Hindalco mulls seeking $1.2 bln in Novelis IPO, Bloomberg News reports\",\n",
       " 'UPDATE 3-Aluminum products maker Novelis makes US IPO filing public',\n",
       " '30 Wealthiest People in India',\n",
       " 'Indian banks to step up IT spends as regulatory scrutiny rises',\n",
       " 'Kotak Mahindra Bank joint managing director resigns',\n",
       " 'The Bottom May Be in for British American Tobacco',\n",
       " 'Accelya Solutions India Leads Three Prime Dividend Stocks',\n",
       " \"India's Bajaj Finance jumps most in nearly two years after lending ban lifted\",\n",
       " \"UPDATE 2-India's Cipla open to partnering with Eli Lilly to market their obesity drugs, CEO says\",\n",
       " 'Cipla and Glenmark initiate recall of certain products in the US',\n",
       " \"India's Cipla open to partnering with Eli Lilly to market their obesity drugs, CEO says\",\n",
       " \"Promoter group to sell stake worth $316 million in India's Cipla, CNBC-TV18 reports\",\n",
       " \"Indian bank Kotak Mahindra's shares dive after new digital client ban\",\n",
       " \"Unilever's India quarterly profit disappoints; sees signs of rebound in rural sales\"]"
      ]
     },
     "execution_count": 3,
     "metadata": {},
     "output_type": "execute_result"
    }
   ],
   "source": [
    "headlines = articles_df['headline'].to_list()\n",
    "headlines"
   ]
  },
  {
   "cell_type": "code",
   "execution_count": 4,
   "id": "f880cd99",
   "metadata": {},
   "outputs": [
    {
     "data": {
      "text/plain": [
       "111"
      ]
     },
     "execution_count": 4,
     "metadata": {},
     "output_type": "execute_result"
    }
   ],
   "source": [
    "headlines.__len__()"
   ]
  },
  {
   "cell_type": "markdown",
   "id": "2cb656c4",
   "metadata": {},
   "source": [
    "## External APIs"
   ]
  },
  {
   "cell_type": "markdown",
   "id": "5ee1d749",
   "metadata": {},
   "source": [
    "### HuggingFace Inference API\n"
   ]
  },
  {
   "cell_type": "code",
   "execution_count": 5,
   "id": "2f678264",
   "metadata": {},
   "outputs": [],
   "source": [
    "from transformers.models.bert import BertForSequenceClassification, BertTokenizer\n",
    "from transformers.pipelines import pipeline"
   ]
  },
  {
   "cell_type": "markdown",
   "id": "7f1300dc",
   "metadata": {},
   "source": [
    "#### kdave/FineTuned_Finbert"
   ]
  },
  {
   "cell_type": "code",
   "execution_count": 5,
   "id": "ac7b64f0",
   "metadata": {},
   "outputs": [],
   "source": [
    "finbert = BertForSequenceClassification.from_pretrained(\n",
    "    'kdave/FineTuned_Finbert',\n",
    "    num_labels=3,\n",
    "    subfolder='finbert',  # Specify the subdirectory containing the model files\n",
    "    use_safetensors=True,  # Use safe tensors\n",
    ")\n",
    "\n",
    "tokenizer = BertTokenizer.from_pretrained(\n",
    "    'kdave/FineTuned_Finbert',\n",
    "    subfolder='finbert',  # Also need this for the tokenizer\n",
    ")"
   ]
  },
  {
   "cell_type": "code",
   "execution_count": 6,
   "id": "ea27bc06",
   "metadata": {},
   "outputs": [
    {
     "name": "stderr",
     "output_type": "stream",
     "text": [
      "Device set to use cpu\n"
     ]
    }
   ],
   "source": [
    "# set top_k=1 to get the most likely label or top_k=None to get all labels\n",
    "# device=-1 means CPU\n",
    "nlp = pipeline(\n",
    "    'sentiment-analysis',\n",
    "    model=finbert,\n",
    "    tokenizer=tokenizer,\n",
    "    device=-1,\n",
    "    top_k=1,\n",
    "    framework='pt',\n",
    ")"
   ]
  },
  {
   "cell_type": "code",
   "execution_count": 7,
   "id": "bae74a4c",
   "metadata": {},
   "outputs": [],
   "source": [
    "nlp_res = nlp(headlines, batch_size=512)"
   ]
  },
  {
   "cell_type": "markdown",
   "id": "d9a709ba",
   "metadata": {},
   "source": [
    "#### yiyanghkust/finbert-tone\n",
    "Much Superior than kdave/FineTuned_Finbert"
   ]
  },
  {
   "cell_type": "code",
   "execution_count": 6,
   "id": "d4851396",
   "metadata": {},
   "outputs": [],
   "source": [
    "finbert = BertForSequenceClassification.from_pretrained(\n",
    "    'yiyanghkust/finbert-tone',\n",
    "    num_labels=3,\n",
    "    use_safetensors=True,  # Use safe tensors\n",
    ")\n",
    "\n",
    "tokenizer = BertTokenizer.from_pretrained('yiyanghkust/finbert-tone')"
   ]
  },
  {
   "cell_type": "code",
   "execution_count": 8,
   "id": "c4f960eb",
   "metadata": {},
   "outputs": [
    {
     "name": "stderr",
     "output_type": "stream",
     "text": [
      "Device set to use cpu\n"
     ]
    }
   ],
   "source": [
    "# set top_k=1 to get the most likely label or top_k=None to get all labels\n",
    "# device=-1 means CPU\n",
    "nlp_finbert = pipeline(\n",
    "    'sentiment-analysis',\n",
    "    model=finbert,\n",
    "    tokenizer=tokenizer,\n",
    "    device=-1,\n",
    "    top_k=None,\n",
    "    framework='pt',\n",
    ")"
   ]
  },
  {
   "cell_type": "code",
   "execution_count": 9,
   "id": "d0d0c82e",
   "metadata": {},
   "outputs": [],
   "source": [
    "# batch_size = 8 runs fastest on Github Runners\n",
    "finbert_res = nlp_finbert(headlines, batch_size=8)"
   ]
  },
  {
   "cell_type": "code",
   "execution_count": 10,
   "id": "307326c6",
   "metadata": {},
   "outputs": [
    {
     "name": "stderr",
     "output_type": "stream",
     "text": [
      "Processing Sentiment: 100%|██████████| 111/111 [00:00<00:00, 331600.96it/s]\n",
      "Processing Sentiment: 100%|██████████| 111/111 [00:00<00:00, 331600.96it/s]\n"
     ]
    }
   ],
   "source": [
    "flattened_data_finbert: list[dict[str, float]] = []\n",
    "\n",
    "for news_item_sentiment_list in tqdm(finbert_res, desc='Processing Sentiment'):\n",
    "    news_item_sentiment_dict = {}\n",
    "    for individual_label_dict in news_item_sentiment_list:\n",
    "        news_item_sentiment_dict[individual_label_dict['label']] = (\n",
    "            individual_label_dict['score']\n",
    "        )\n",
    "    flattened_data_finbert.append(news_item_sentiment_dict)"
   ]
  },
  {
   "cell_type": "code",
   "execution_count": 12,
   "id": "92ca1a70",
   "metadata": {},
   "outputs": [
    {
     "data": {
      "text/html": [
       "<div>\n",
       "<style scoped>\n",
       "    .dataframe tbody tr th:only-of-type {\n",
       "        vertical-align: middle;\n",
       "    }\n",
       "\n",
       "    .dataframe tbody tr th {\n",
       "        vertical-align: top;\n",
       "    }\n",
       "\n",
       "    .dataframe thead th {\n",
       "        text-align: right;\n",
       "    }\n",
       "</style>\n",
       "<table border=\"1\" class=\"dataframe\">\n",
       "  <thead>\n",
       "    <tr style=\"text-align: right;\">\n",
       "      <th></th>\n",
       "      <th>Neutral</th>\n",
       "      <th>Positive</th>\n",
       "      <th>Negative</th>\n",
       "      <th>compound</th>\n",
       "    </tr>\n",
       "  </thead>\n",
       "  <tbody>\n",
       "    <tr>\n",
       "      <th>0</th>\n",
       "      <td>9.999366e-01</td>\n",
       "      <td>3.494189e-05</td>\n",
       "      <td>2.852494e-05</td>\n",
       "      <td>0.0000</td>\n",
       "    </tr>\n",
       "    <tr>\n",
       "      <th>1</th>\n",
       "      <td>9.999599e-01</td>\n",
       "      <td>3.006034e-05</td>\n",
       "      <td>9.977322e-06</td>\n",
       "      <td>0.0000</td>\n",
       "    </tr>\n",
       "    <tr>\n",
       "      <th>2</th>\n",
       "      <td>1.405323e-08</td>\n",
       "      <td>1.000000e+00</td>\n",
       "      <td>6.688106e-09</td>\n",
       "      <td>1.0000</td>\n",
       "    </tr>\n",
       "    <tr>\n",
       "      <th>3</th>\n",
       "      <td>9.997968e-01</td>\n",
       "      <td>2.649190e-07</td>\n",
       "      <td>2.029850e-04</td>\n",
       "      <td>-0.0002</td>\n",
       "    </tr>\n",
       "    <tr>\n",
       "      <th>4</th>\n",
       "      <td>9.999524e-01</td>\n",
       "      <td>4.143087e-06</td>\n",
       "      <td>4.336750e-05</td>\n",
       "      <td>-0.0000</td>\n",
       "    </tr>\n",
       "  </tbody>\n",
       "</table>\n",
       "</div>"
      ],
      "text/plain": [
       "        Neutral      Positive      Negative  compound\n",
       "0  9.999366e-01  3.494189e-05  2.852494e-05    0.0000\n",
       "1  9.999599e-01  3.006034e-05  9.977322e-06    0.0000\n",
       "2  1.405323e-08  1.000000e+00  6.688106e-09    1.0000\n",
       "3  9.997968e-01  2.649190e-07  2.029850e-04   -0.0002\n",
       "4  9.999524e-01  4.143087e-06  4.336750e-05   -0.0000"
      ]
     },
     "execution_count": 12,
     "metadata": {},
     "output_type": "execute_result"
    }
   ],
   "source": [
    "df_finbert = pd.DataFrame(flattened_data_finbert)\n",
    "df_finbert['compound'] = (\n",
    "    df_finbert.loc[:, 'Positive']\n",
    "    .where(df_finbert['Positive'] > df_finbert['Negative'], -df_finbert['Negative'])\n",
    "    .astype(float)\n",
    "    .round(4)\n",
    ")\n",
    "df_finbert.head()"
   ]
  },
  {
   "cell_type": "markdown",
   "id": "2713ffb1",
   "metadata": {},
   "source": [
    "## Modern-FinBert\n",
    "\n",
    "based on ModernBert architecture and not BERT. has 16x long context length than BERT hence can be also used for article-text as well as headlines."
   ]
  },
  {
   "cell_type": "code",
   "execution_count": 13,
   "id": "dce46417",
   "metadata": {},
   "outputs": [],
   "source": [
    "from transformers import AutoModelForSequenceClassification, AutoTokenizer"
   ]
  },
  {
   "cell_type": "code",
   "execution_count": 14,
   "id": "496bfe9c",
   "metadata": {},
   "outputs": [],
   "source": [
    "mbert_model = AutoModelForSequenceClassification.from_pretrained(\n",
    "    pretrained_model_name_or_path='beethogedeon/Modern-FinBERT',\n",
    "    num_labels=3,\n",
    "    use_safetensors=True,\n",
    ")\n",
    "\n",
    "mbert_tokenizer = AutoTokenizer.from_pretrained('answerdotai/ModernBERT-base')"
   ]
  },
  {
   "cell_type": "code",
   "execution_count": 15,
   "id": "c57aadbb",
   "metadata": {},
   "outputs": [
    {
     "name": "stderr",
     "output_type": "stream",
     "text": [
      "Device set to use cpu\n"
     ]
    }
   ],
   "source": [
    "nlp_mbert = pipeline(\n",
    "    task='sentiment-analysis',\n",
    "    model=mbert_model,\n",
    "    tokenizer=mbert_tokenizer,\n",
    "    device=-1,\n",
    "    top_k=None,\n",
    "    framework='pt',\n",
    ")"
   ]
  },
  {
   "cell_type": "code",
   "execution_count": 16,
   "id": "50bfae71",
   "metadata": {},
   "outputs": [],
   "source": [
    "res_mbert = nlp_mbert(headlines, batch_size=8)"
   ]
  },
  {
   "cell_type": "code",
   "execution_count": 17,
   "id": "af4ab795",
   "metadata": {},
   "outputs": [
    {
     "name": "stderr",
     "output_type": "stream",
     "text": [
      "Processing Sentiment: 100%|██████████| 111/111 [00:00<00:00, 340576.26it/s]\n",
      "Processing Sentiment: 100%|██████████| 111/111 [00:00<00:00, 340576.26it/s]\n"
     ]
    }
   ],
   "source": [
    "flattened_data_mbert: list[dict[str, float]] = []\n",
    "\n",
    "for news_item_sentiment_list in tqdm(res_mbert, desc='Processing Sentiment'):\n",
    "    news_item_sentiment_dict = {}\n",
    "    for individual_label_dict in news_item_sentiment_list:\n",
    "        news_item_sentiment_dict[individual_label_dict['label']] = (\n",
    "            individual_label_dict['score']\n",
    "        )\n",
    "    flattened_data_mbert.append(news_item_sentiment_dict)"
   ]
  },
  {
   "cell_type": "code",
   "execution_count": 19,
   "id": "fb4c9acc",
   "metadata": {},
   "outputs": [
    {
     "data": {
      "text/html": [
       "<div>\n",
       "<style scoped>\n",
       "    .dataframe tbody tr th:only-of-type {\n",
       "        vertical-align: middle;\n",
       "    }\n",
       "\n",
       "    .dataframe tbody tr th {\n",
       "        vertical-align: top;\n",
       "    }\n",
       "\n",
       "    .dataframe thead th {\n",
       "        text-align: right;\n",
       "    }\n",
       "</style>\n",
       "<table border=\"1\" class=\"dataframe\">\n",
       "  <thead>\n",
       "    <tr style=\"text-align: right;\">\n",
       "      <th></th>\n",
       "      <th>neutral</th>\n",
       "      <th>negative</th>\n",
       "      <th>positive</th>\n",
       "      <th>compound</th>\n",
       "    </tr>\n",
       "  </thead>\n",
       "  <tbody>\n",
       "    <tr>\n",
       "      <th>0</th>\n",
       "      <td>0.999999</td>\n",
       "      <td>8.928600e-07</td>\n",
       "      <td>1.839519e-07</td>\n",
       "      <td>-0.0000</td>\n",
       "    </tr>\n",
       "    <tr>\n",
       "      <th>1</th>\n",
       "      <td>1.000000</td>\n",
       "      <td>2.669601e-09</td>\n",
       "      <td>5.901054e-08</td>\n",
       "      <td>0.0000</td>\n",
       "    </tr>\n",
       "    <tr>\n",
       "      <th>2</th>\n",
       "      <td>0.005828</td>\n",
       "      <td>2.367222e-04</td>\n",
       "      <td>9.939348e-01</td>\n",
       "      <td>0.9939</td>\n",
       "    </tr>\n",
       "    <tr>\n",
       "      <th>3</th>\n",
       "      <td>0.999997</td>\n",
       "      <td>1.070623e-06</td>\n",
       "      <td>2.179626e-06</td>\n",
       "      <td>0.0000</td>\n",
       "    </tr>\n",
       "    <tr>\n",
       "      <th>4</th>\n",
       "      <td>0.999998</td>\n",
       "      <td>1.303204e-08</td>\n",
       "      <td>1.698909e-06</td>\n",
       "      <td>0.0000</td>\n",
       "    </tr>\n",
       "  </tbody>\n",
       "</table>\n",
       "</div>"
      ],
      "text/plain": [
       "    neutral      negative      positive  compound\n",
       "0  0.999999  8.928600e-07  1.839519e-07   -0.0000\n",
       "1  1.000000  2.669601e-09  5.901054e-08    0.0000\n",
       "2  0.005828  2.367222e-04  9.939348e-01    0.9939\n",
       "3  0.999997  1.070623e-06  2.179626e-06    0.0000\n",
       "4  0.999998  1.303204e-08  1.698909e-06    0.0000"
      ]
     },
     "execution_count": 19,
     "metadata": {},
     "output_type": "execute_result"
    }
   ],
   "source": [
    "df_mbert = pd.DataFrame(flattened_data_mbert)\n",
    "df_mbert['compound'] = (\n",
    "    df_mbert.loc[:, 'positive']\n",
    "    .where(df_mbert['positive'] > df_mbert['negative'], -df_mbert['negative'])\n",
    "    .astype(float)\n",
    "    .round(4)\n",
    ")\n",
    "df_mbert.head()"
   ]
  },
  {
   "cell_type": "markdown",
   "id": "51f13781",
   "metadata": {},
   "source": [
    "#### comparison\n",
    "\n",
    "for headlines, keep using the finbert_tone model. It's mostly slightly better than Modern-FinBert."
   ]
  },
  {
   "cell_type": "code",
   "execution_count": 21,
   "id": "4b0a86d9",
   "metadata": {},
   "outputs": [],
   "source": [
    "sentiment_df = pd.merge(\n",
    "    df_finbert,\n",
    "    df_mbert,\n",
    "    left_index=True,\n",
    "    right_index=True,\n",
    "    suffixes=('_finbert', '_mbert'),\n",
    ")\n",
    "sentiment_df['headline'] = headlines[: len(sentiment_df)]"
   ]
  },
  {
   "cell_type": "code",
   "execution_count": 22,
   "id": "98800fa2",
   "metadata": {},
   "outputs": [
    {
     "data": {
      "text/html": [
       "<div>\n",
       "<style scoped>\n",
       "    .dataframe tbody tr th:only-of-type {\n",
       "        vertical-align: middle;\n",
       "    }\n",
       "\n",
       "    .dataframe tbody tr th {\n",
       "        vertical-align: top;\n",
       "    }\n",
       "\n",
       "    .dataframe thead th {\n",
       "        text-align: right;\n",
       "    }\n",
       "</style>\n",
       "<table border=\"1\" class=\"dataframe\">\n",
       "  <thead>\n",
       "    <tr style=\"text-align: right;\">\n",
       "      <th></th>\n",
       "      <th>Neutral</th>\n",
       "      <th>Positive</th>\n",
       "      <th>Negative</th>\n",
       "      <th>compound_finbert</th>\n",
       "      <th>neutral</th>\n",
       "      <th>negative</th>\n",
       "      <th>positive</th>\n",
       "      <th>compound_mbert</th>\n",
       "      <th>headline</th>\n",
       "    </tr>\n",
       "  </thead>\n",
       "  <tbody>\n",
       "    <tr>\n",
       "      <th>0</th>\n",
       "      <td>9.999366e-01</td>\n",
       "      <td>3.494189e-05</td>\n",
       "      <td>2.852494e-05</td>\n",
       "      <td>0.0000</td>\n",
       "      <td>0.999999</td>\n",
       "      <td>8.928600e-07</td>\n",
       "      <td>1.839519e-07</td>\n",
       "      <td>-0.0000</td>\n",
       "      <td>ICICI Bank Completes Redemption of Notes</td>\n",
       "    </tr>\n",
       "    <tr>\n",
       "      <th>1</th>\n",
       "      <td>9.999599e-01</td>\n",
       "      <td>3.006034e-05</td>\n",
       "      <td>9.977322e-06</td>\n",
       "      <td>0.0000</td>\n",
       "      <td>1.000000</td>\n",
       "      <td>2.669601e-09</td>\n",
       "      <td>5.901054e-08</td>\n",
       "      <td>0.0000</td>\n",
       "      <td>Mahindra &amp; Mahindra selects partner for supply...</td>\n",
       "    </tr>\n",
       "    <tr>\n",
       "      <th>2</th>\n",
       "      <td>1.405323e-08</td>\n",
       "      <td>1.000000e+00</td>\n",
       "      <td>6.688106e-09</td>\n",
       "      <td>1.0000</td>\n",
       "      <td>0.005828</td>\n",
       "      <td>2.367222e-04</td>\n",
       "      <td>9.939348e-01</td>\n",
       "      <td>0.9939</td>\n",
       "      <td>Kotak Mahindra Bank Ltd (BOM:500247) Q2 2025 E...</td>\n",
       "    </tr>\n",
       "    <tr>\n",
       "      <th>3</th>\n",
       "      <td>9.997968e-01</td>\n",
       "      <td>2.649190e-07</td>\n",
       "      <td>2.029850e-04</td>\n",
       "      <td>-0.0002</td>\n",
       "      <td>0.999997</td>\n",
       "      <td>1.070623e-06</td>\n",
       "      <td>2.179626e-06</td>\n",
       "      <td>0.0000</td>\n",
       "      <td>StanChart sells India personal loan business t...</td>\n",
       "    </tr>\n",
       "    <tr>\n",
       "      <th>4</th>\n",
       "      <td>9.999524e-01</td>\n",
       "      <td>4.143087e-06</td>\n",
       "      <td>4.336750e-05</td>\n",
       "      <td>-0.0000</td>\n",
       "      <td>0.999998</td>\n",
       "      <td>1.303204e-08</td>\n",
       "      <td>1.698909e-06</td>\n",
       "      <td>0.0000</td>\n",
       "      <td>Britannia, Groupe Bel India venture starts che...</td>\n",
       "    </tr>\n",
       "  </tbody>\n",
       "</table>\n",
       "</div>"
      ],
      "text/plain": [
       "        Neutral      Positive      Negative  compound_finbert   neutral  \\\n",
       "0  9.999366e-01  3.494189e-05  2.852494e-05            0.0000  0.999999   \n",
       "1  9.999599e-01  3.006034e-05  9.977322e-06            0.0000  1.000000   \n",
       "2  1.405323e-08  1.000000e+00  6.688106e-09            1.0000  0.005828   \n",
       "3  9.997968e-01  2.649190e-07  2.029850e-04           -0.0002  0.999997   \n",
       "4  9.999524e-01  4.143087e-06  4.336750e-05           -0.0000  0.999998   \n",
       "\n",
       "       negative      positive  compound_mbert  \\\n",
       "0  8.928600e-07  1.839519e-07         -0.0000   \n",
       "1  2.669601e-09  5.901054e-08          0.0000   \n",
       "2  2.367222e-04  9.939348e-01          0.9939   \n",
       "3  1.070623e-06  2.179626e-06          0.0000   \n",
       "4  1.303204e-08  1.698909e-06          0.0000   \n",
       "\n",
       "                                            headline  \n",
       "0           ICICI Bank Completes Redemption of Notes  \n",
       "1  Mahindra & Mahindra selects partner for supply...  \n",
       "2  Kotak Mahindra Bank Ltd (BOM:500247) Q2 2025 E...  \n",
       "3  StanChart sells India personal loan business t...  \n",
       "4  Britannia, Groupe Bel India venture starts che...  "
      ]
     },
     "execution_count": 22,
     "metadata": {},
     "output_type": "execute_result"
    }
   ],
   "source": [
    "sentiment_df.head()"
   ]
  },
  {
   "cell_type": "code",
   "execution_count": 23,
   "id": "793c072d",
   "metadata": {},
   "outputs": [],
   "source": [
    "sentiment_df.to_csv('finbert_sentiment.csv', index=False)"
   ]
  },
  {
   "cell_type": "code",
   "execution_count": null,
   "id": "785003bc",
   "metadata": {},
   "outputs": [],
   "source": []
  },
  {
   "cell_type": "code",
   "execution_count": 25,
   "id": "89b0626a",
   "metadata": {},
   "outputs": [],
   "source": [
    "sentiment_df.rename(columns={'label': 'label_2', 'score': 'score_2'}, inplace=True)"
   ]
  },
  {
   "cell_type": "code",
   "execution_count": null,
   "id": "9c1ce05b",
   "metadata": {},
   "outputs": [],
   "source": []
  }
 ],
 "metadata": {
  "kernelspec": {
   "display_name": ".venv",
   "language": "python",
   "name": "python3"
  },
  "language_info": {
   "codemirror_mode": {
    "name": "ipython",
    "version": 3
   },
   "file_extension": ".py",
   "mimetype": "text/x-python",
   "name": "python",
   "nbconvert_exporter": "python",
   "pygments_lexer": "ipython3",
   "version": "3.13.3"
  }
 },
 "nbformat": 4,
 "nbformat_minor": 5
}
