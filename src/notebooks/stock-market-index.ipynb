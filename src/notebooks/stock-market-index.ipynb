{
 "cells": [
  {
   "cell_type": "markdown",
   "id": "76d734b8",
   "metadata": {},
   "source": [
    "# Stock Market Indices"
   ]
  },
  {
   "cell_type": "markdown",
   "id": "ab65357e",
   "metadata": {},
   "source": [
    "Major Topics:\n",
    "- How does a stock market index gets created? Take an example of a Nifty Sectoral Index e.g. Nifty IT. What is the procedure?\n",
    "- What are some important considerations to making a technically sound index?\n",
    "- If I wanted to create an index with stocks of my choosing how would I go about doing that?\n",
    "- What is the difference between a price-weighted index, a market-cap weighted index and equal-weighted index?\n",
    "- What about rebalancing?"
   ]
  },
  {
   "cell_type": "markdown",
   "id": "70400177",
   "metadata": {},
   "source": [
    "<details>\n",
    "<summary>difference between an index and a portfolio</summary>\n",
    "<pre>\n",
    "- An index is a statistical measure that represents the value of a group of stocks, while a portfolio is a collection of individual investments held by an investor.\n",
    "- An index is typically passive and aims to replicate the performance of a specific market segment, while a portfolio can be actively managed and tailored to an investor's specific goals and risk tolerance.\n",
    "- An index is usually constructed using a predefined methodology, while a portfolio can be built using a more flexible approach.\n",
    "</pre>\n",
    "</details>"
   ]
  },
  {
   "cell_type": "markdown",
   "id": "3ff2a105",
   "metadata": {},
   "source": [
    "## introduction\n",
    "\n",
    "\n",
    "A stock market index is a statistical measure that represents a segment of the stock market.\n",
    "\n",
    "Main Purpose:\n",
    "- Act as a benchmark to measure performance against.\n",
    "- represent sentiment of a specific sector/industry.\n"
   ]
  },
  {
   "cell_type": "markdown",
   "id": "5c104bc6",
   "metadata": {
    "vscode": {
     "languageId": "plaintext"
    }
   },
   "source": [
    "## Index Concepts\n",
    "\n",
    "#### Impact Cost\n",
    "- Impact cost represents the cost of executing a transaction in a given stock, for a specific predefined order size, at any given point of time.\n",
    "- It is different than the price at which the stock is traded.\n",
    "- Impact cost is a function of the order size and the liquidity of the stock.\n",
    "- Impact cost is a practical and realistic measure of market liquidity; it is closer to the true cost of execution faced by a trader in comparison to the bid-ask spread.\n",
    "- It is the difference between the expected price (ideal price) of a trade and the actual price at which the trade is executed.\n",
    "- Impact cost may vary for different transaction sizes.\n",
    "\n",
    "Example:\n",
    "Consider the following order book for a stock:\n",
    "\n",
    "\n",
    "| Bid Price | Buy Quantity | Sell Quantity | Ask Price |\n",
    "|-----------|--------------|---------------|-----------|\n",
    "| 99        | 1000         | 500           | 102       |\n",
    "| 98        | 2000         | 2000          | 104       |\n",
    "\n",
    "- If a trader wants to buy 1500 stocks, then based on the bid-ask spread, the expected price for a stock would be 100.5 rs.\n",
    "- But given the liquidity of the stock, and his order size, the actual price at which the trade is executed may be different.\n",
    "- For his buy order of 1500 stocks, the impact cost would be the difference between the expected price and the actual price at which the trade is executed.\n",
    "- Trader buys 500 stocks at 102 rs, and 1000 stocks at 104 rs. Hence, his actual price per share comes out to be (500 * 102 + 1000 * 104) / 1500 = 103.33 rs.\n",
    "- Hence, the impact cost = (103.33 - 100.5)/100.5 = 2.8%.\n",
    "\n",
    "> Suppose a stock trades at bid 99 and ask 101. We say the \"ideal\" price is ₹ 100. Now, suppose a buy order for 1000 shares goes through at ₹ 102. Then we say the market impact cost at 1000 shares is 2%. If a buy order for 2000 shares goes through at ₹ 104, we say the market impact cost at 2000 shares is 4%. Market impact cost is the best measure of the liquidity of a stock. It accurately reflects the costs faced when actually trading an index. For a stock to qualify for possible inclusion into the NIFTY 50, it has to reliably have market impact cost of below 0.50 % when doing NIFTY 50 trades of two crore rupees.\n",
    "\n",
    "#### Price Index\n",
    "\n",
    "- NIFTY family of indices are price index and hence reflects the returns one would earn if investment is made in the index portfolio. \n",
    "- Only capital gains arising due to price movements of constituent stocks are indicated in a price index.\n",
    "- However, a price index does not consider the returns arising from dividend receipts. \n",
    "\n",
    "\n",
    "#### Total Return Index\n",
    "\n",
    "- To get a true picture of returns, the dividends received from the constituent stocks also need to be factored in the index values. Such an index, which includes the dividends received, is called the Total Returns Index. \n",
    "- Total Returns Index reflects the returns on the index arising from:\n",
    "    1. Constituent stock price movements.\n",
    "    2. Dividend receipts from constituent index stocks.\n",
    "\n",
    "\n",
    "\n",
    "#### Unsystematic risk\n",
    "- Risk that is unique to a particular company or industry. \n",
    "- It is also known as diversifiable risk or specific risk.\n",
    "- It can be reduced through diversification.\n",
    "\n",
    "#### Systematic risk\n",
    "- Risk that affects the entire market. \n",
    "- It is also known as non-diversifiable risk or market risk.\n",
    "\n",
    "#### Beta\n",
    "    \n",
    "- Systematic risk of various securities differ because of their relationship with the market. \n",
    "- How systematic risk affects an index/portfolio compared to the market as whole is measured by the beta of the index/portfolio.\n",
    "- The Beta factor describes the movement in a stock's or a portfolio's returns in relation to that of the market returns.\n",
    "\n",
    "Beta is calculated as:\n",
    "$$\n",
    "\\beta = \\frac{Cov (R_i, R_m)}{Var (R_m)}\n",
    "$$\n",
    "\n",
    "Where:\n",
    "- $(R_i)$ = return of the stock or portfolio\n",
    "- $(R_m)$ = return of the market (broader market index, e.g., Nifty 50)\n",
    "\n",
    "And:\n",
    "- $\\beta = 0$: indicates that the stock or portfolio is uncorrelated with the market.\n",
    "- $\\beta = 1$: indicates that the stock or portfolio moves in line with the market.\n",
    "- $\\beta < 1$: indicates that the stock or portfolio is less volatile than the market.\n",
    "- $\\beta > 1$: indicates that the stock or portfolio is more volatile than the market.\n",
    "\n",
    "Note: In order to calculate the beta of a portfolio, multiply the weightage of each stock in the portfolio with its beta value to arrive at the weighted average beta of the portfolio.\n",
    "\n",
    "#### Index Fund\n",
    "- An index fund is a type of mutual fund or exchange-traded fund (ETF) that aims to replicate the performance of a specific index, such as the Nifty 50 or S&P 500.\n",
    "- Index funds are passively managed, meaning they do not attempt to outperform the index but rather mirror its performance.\n",
    "\n",
    "#### Tracking Error\n",
    "- Tracking error is a measure of how closely a portfolio follows the index to which it is benchmarked.\n",
    "- It is the annualized standard deviation of the difference between the portfolio returns and the index returns.\n",
    "- A lower tracking error indicates that the portfolio is closely tracking the index, while a higher tracking error indicates that the portfolio is deviating from the index.\n",
    "- It is always calculated against the Total Return Index.\n",
    "\n",
    "it is calculated as:\n",
    "\n",
    "1. get the NAV of the index fund and TR Index values for each day of the total time period.\n",
    "2. convert them to percentage returns.\n",
    "3. calculate the difference between the index fund returns and the TR Index returns for each day.\n",
    "4. calculate the standard deviation of the difference in returns.\n",
    "5. multiply the standard deviation by the square root of 252 (the number of trading days in a year) to annualize the tracking error.\n",
    "\n",
    "\n",
    "##### How does it arise?\n",
    "- Tracking error arises due to various factors, including:\n",
    "    1. **Management Fees**: The fees charged by the fund manager can lead to a difference in performance.\n",
    "    2. **Transaction Costs**: Buying and selling stocks incurs costs that can affect returns.\n",
    "    3. **Cash Holdings**: Index funds may hold cash for liquidity, which can lead to tracking error.\n",
    "    4. **Rebalancing**: The frequency and method of rebalancing the portfolio can also contribute to tracking error.\n"
   ]
  },
  {
   "cell_type": "markdown",
   "id": "6260a5b3",
   "metadata": {
    "vscode": {
     "languageId": "plaintext"
    }
   },
   "source": [
    "## define objective and universe\n",
    "\n",
    "- what part of market should the index represent?\n",
    "- what is the universe we can pick the stocks from? e.g. Nifty 500, Nifty Auto etc."
   ]
  },
  {
   "cell_type": "markdown",
   "id": "d6370bd3",
   "metadata": {
    "vscode": {
     "languageId": "plaintext"
    }
   },
   "source": [
    "## stock selection criteria\n",
    "\n",
    "How do you pick the stocks from the given universe?\n",
    "- stocks with top mcap / free-floating mcap\n",
    "- most liquid stocks (high trading volume)\n",
    "- stocks from a specific sector\n",
    "- financial indicators based: high PE, high growth etc."
   ]
  },
  {
   "cell_type": "markdown",
   "id": "ab741f6a",
   "metadata": {},
   "source": [
    "## weighting methodology\n",
    "\n",
    "How much impact of a stocks price movement should have on the index value?\n",
    "\n",
    "### mcap/free-float macp weighted \n",
    "- bigger the company, more impact it'll have on the index.\n",
    "- free-float mcap: only the shares available for trading are considered.\n",
    "- free-float mcap = total mcap - shares held by promoters, government, etc.\n",
    "- tends to be less volatile\n",
    "\n",
    "### price-weighted\n",
    "- stocks with higher price will have more influence. e.g. a stock trading at $100 will have 10 times the weight of a stock trading at $10.\n",
    "- Less common now due to its arbitrary nature, but some historical indices like the Dow Jones Industrial Average (DJIA) and Nikkei 225 still use it.\n",
    "\n",
    "### equal-weighted\n",
    "- each stock has the equal impact.\n",
    "- used when you want to avoid concentration and give smaller companies an equal chance to influence the index performance.\n",
    "- Often used for thematic or strategy indices.\n",
    "- Provides greater diversification; Prevents a few large stocks from dominating. \n",
    "- May offer better performance if smaller-cap stocks outperform.\n",
    "\n",
    "### factor weighted\n",
    "- Stocks are selected and weighted based on fundamental company metrics rather than market price or capitalization\n",
    "- These factors can include sales, earnings, book value, dividends, cash flow, or even number of employees.\n",
    "\n",
    "### capping\n",
    "- capping imposes caps or limits on the maximum weight of any single stock or group of stocks to prevent excessive concentration.\n",
    "- The excess weight is redistributed among other stocks."
   ]
  },
  {
   "cell_type": "markdown",
   "id": "84669899",
   "metadata": {},
   "source": [
    "## index base period\n",
    "\n",
    "- point in time since we start tracking the price of constituent stocks.\n",
    "\n",
    "## index base value\n",
    "- initial value of the index\n",
    "- for smaller values, the everyday increment will be smaller and for larger values, it will be larger."
   ]
  },
  {
   "cell_type": "markdown",
   "id": "093f51e5",
   "metadata": {
    "vscode": {
     "languageId": "plaintext"
    }
   },
   "source": [
    "## updating the index value\n",
    "\n",
    "- if the chosen weighting method is free-floating mcap, then we calculate the index value as:\n",
    "\n",
    "$$\\text{index value} = \\frac{\\text{current free float combined mcap}}{\\text{free float mcap at base-period}} \\times \\text{base value}$$"
   ]
  },
  {
   "cell_type": "markdown",
   "id": "237289ef",
   "metadata": {},
   "source": [
    "## index mantainance\n",
    "\n",
    "### rebalancing\n",
    "- adding removing constituents and adjusting weights.\n",
    "\n",
    "### corporate actions\n",
    "- when a company announce corporate action e.g. stock split, how to adjust the index value.\n",
    "\n",
    "#### divisor\n",
    "- it is used to adjust the index value when there are corporate actions.\n",
    "- it is calculated as:\n",
    "\n"
   ]
  },
  {
   "cell_type": "markdown",
   "id": "1b2a1b54",
   "metadata": {
    "vscode": {
     "languageId": "plaintext"
    }
   },
   "source": [
    "## example: Nifty IT Index\n",
    "\n",
    "- objective: represent the IT sector of the Indian stock market.\n",
    "- universe: Nifty 500\n",
    "- stock selection criteria: top 10 stocks by free-float mcap.\n",
    "- weighting methodology: free-float mcap weighted.\n",
    "    - capping:\n",
    "    - 33% for any single stock.\n",
    "    - 62% for aggregate of top 3 stocks.\n",
    "- base period: 1st Jan 1996\n",
    "- index base value: 1000\n",
    "- updating the index value:\n",
    "    - free-float mcap of the 10 stocks in the index is calculated.\n",
    "- maintenance:\n",
    "    - rebalancing: semi-annually. (March and September)\n",
    "    - corporate actions: adjusted daily.\n",
    "        - stock split: adjust the index value by multiplying the index value with the ratio of old price/new price.\n",
    "        - bonus issue: adjust the index value by multiplying the index value with the ratio of old shares/new shares.\n",
    "    "
   ]
  },
  {
   "cell_type": "markdown",
   "id": "2950a3e8",
   "metadata": {
    "vscode": {
     "languageId": "plaintext"
    }
   },
   "source": [
    "## Important Considerations:\n",
    "\n",
    "- liquidity: stocks should be liquid enough to trade.\n",
    "- transparency: methodology should be clear, consistent and publicly available.\n",
    "- Objectivity/Rules-Based: Selection and weighting should be based on predefined, quantifiable rules, not subjective judgment, to ensure fairness and replicability.\n"
   ]
  }
 ],
 "metadata": {
  "language_info": {
   "name": "python"
  }
 },
 "nbformat": 4,
 "nbformat_minor": 5
}
